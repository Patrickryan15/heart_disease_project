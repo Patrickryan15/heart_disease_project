{
 "cells": [
  {
   "cell_type": "markdown",
   "metadata": {},
   "source": [
    "<table class=\"MsoTableGrid\" border=\"1\" cellspacing=\"0\" cellpadding=\"0\" width=\"100%\" style=\"border-collapse:collapse;border:none;\">\n",
    " <tbody>\n",
    "  <tr>\n",
    "   <td style=\"border:solid windowtext 1.0pt;background:#D9D9D9;padding:5px;\"><b>Project</b></td>\n",
    "   <td style=\"border:solid windowtext 1.0pt;border-left:none;padding:5px;\">Predictive Analysis for Heart Disease Related Fatalities</td>\n",
    "   <td style=\"border:solid windowtext 1.0pt;background:#D9D9D9;padding:5px;\"><b>Developer</b></td>\n",
    "   <td style=\"border:solid windowtext 1.0pt;border-left:none;padding:5px;\">Patrick Ryan</td>\n",
    "  </tr>\n",
    "  <tr>\n",
    "   <td style=\"border:solid windowtext 1.0pt;background:#D9D9D9;padding:5px;\"><b>Tools</b></td>\n",
    "   <td style=\"border:solid windowtext 1.0pt;border-left:none;padding:5px;\">Python 3.12</td>\n",
    "   <td style=\"border:solid windowtext 1.0pt;background:#D9D9D9;padding:5px;\"><b>Version</b></td>\n",
    "   <td style=\"border:solid windowtext 1.0pt;border-left:none;padding:5px;\">[pre-release] v1</td>\n",
    "  </tr>\n",
    "  <tr>\n",
    "   <td colspan=\"4\" style=\"border:solid windowtext 1.0pt;background:#D9D9D9;padding:5px;\"><b>Description</b></td>\n",
    "  </tr>\n",
    "  <tr>\n",
    "   <td colspan=\"4\" style=\"border:solid windowtext 1.0pt;padding:5px;\">The aim of this project is to develop a machine learning model to predict the probability of mortality, caused by heart failure using clinical parameters. This model will help in identifying patients at higher risk and eight healthcare professionals, and making informed decisions.</td>\n",
    "  </tr>\n",
    "  <tr>\n",
    "   <td colspan=\"4\" style=\"border:solid windowtext 1.0pt;background:#D9D9D9;padding:5px;\"><b>Libraries and Modules</b></td>\n",
    "  </tr>\n",
    "  <tr>\n",
    "   <td colspan=\"4\" style=\"border:solid windowtext 1.0pt;padding:5px;\">\n",
    "    <ul>\n",
    "     <li>Data Handling and Computation Libraries: pandas, numpy</li>\n",
    "     <li>Machine Learning and Data Preprocessing Libraries: scikit-learn</li>\n",
    "     <li>Visualization Libraries: matplotlib.pyplot, seaborn</li>\n",
    "     <!-- Will add more libraries and modules here as needed -->\n",
    "    </ul>\n",
    "   </td>\n",
    "  </tr>\n",
    "  <tr>\n",
    "   <td colspan=\"4\" style=\"border:solid windowtext 1.0pt;background:#D9D9D9;padding:5px;\"><b>Functions</b></td>\n",
    "  </tr>\n",
    "  <tr>\n",
    "   <td colspan=\"4\" style=\"border:solid windowtext 1.0pt;padding:5px;\">\n",
    "    <ol>\n",
    "     <li>load_data: To load data into a DataFrame.</li>\n",
    "     <!-- Will add more functions here as needed -->\n",
    "    </ol>\n",
    "   </td>\n",
    "  </tr>\n",
    "  <tr>\n",
    "   <td colspan=\"4\" style=\"border:solid windowtext 1.0pt;background:#D9D9D9;padding:5px;\"><b>Main Workflow</b></td>\n",
    "  </tr>\n",
    "  <tr>\n",
    "   <td colspan=\"4\" style=\"border:solid windowtext 1.0pt;padding:5px;\">\n",
    "    <ul>\n",
    "     <li>Setup:</li>\n",
    "     <li>Data Loading:</li>\n",
    "     <li>EDA:</li>\n",
    "     <li>Data Preprocessing:</li>\n",
    "     <li>Model Building:</li>\n",
    "     <li>Model Evaluation:</li>\n",
    "     <!-- Will add more steps here as needed -->\n",
    "    </ul>\n",
    "   </td>\n",
    "  </tr>\n",
    "  <!-- Can add more sections here as needed -->\n",
    " </tbody>\n",
    "</table>\n"
   ]
  },
  {
   "cell_type": "code",
   "execution_count": 1,
   "metadata": {},
   "outputs": [],
   "source": [
    "# Basic data manipulation and numerical operations\n",
    "import pandas as pd  # For data manipulation and analysis\n",
    "import numpy as np  # For numerical operations\n",
    "\n",
    "# Logging and utilities\n",
    "import logging  # For logging information during execution\n",
    "\n",
    "# Data visualization\n",
    "import matplotlib.pyplot as plt  # For plotting graphs and charts\n",
    "import seaborn as sns  # For making statistical graphics"
   ]
  },
  {
   "cell_type": "code",
   "execution_count": 2,
   "metadata": {},
   "outputs": [],
   "source": [
    "def load_data(data):\n",
    "    try:\n",
    "        df = pd.read_csv(data)\n",
    "    except (FileNotFoundError, pd.errors.EmptyDataError, pd.errors.ParserError) as e:\n",
    "        logging.error(f\"Error: {str(e)}.\")\n",
    "        exit(1)\n",
    "    return df"
   ]
  },
  {
   "cell_type": "code",
   "execution_count": 3,
   "metadata": {},
   "outputs": [],
   "source": [
    "def identify_data_types(df, unique_value_threshold=10):\n",
    "    numerical_columns = []  # Initialize a list to store names of numerical columns\n",
    "    categorical_columns = []  # Initialize a list to store names of categorical columns\n",
    "\n",
    "    for column in df.columns:\n",
    "        if df[column].dtype == 'object':\n",
    "            # Add column to categorical list if it's of object type\n",
    "            categorical_columns.append(column)\n",
    "        else:\n",
    "            # If the number of unique values is less than or equal to the threshold, consider it categorical\n",
    "            if df[column].nunique() <= unique_value_threshold:\n",
    "                categorical_columns.append(column)\n",
    "            else:\n",
    "                # Otherwise, consider it a numerical column\n",
    "                numerical_columns.append(column)\n",
    "                \n",
    "    return numerical_columns, categorical_columns"
   ]
  },
  {
   "cell_type": "code",
   "execution_count": 4,
   "metadata": {},
   "outputs": [],
   "source": [
    "def exploratory_data_analysis(dataframe, numerical_columns, categorical_columns, target_column='HeartDisease', num_features=5):\n",
    "    # Feature Correlation Analysis: Determine the correlation of each numerical feature with the target column\n",
    "    correlation = dataframe[numerical_columns].corrwith(dataframe[target_column]).abs()\n",
    "    top_features = correlation.sort_values(ascending=False).head(num_features).index.tolist()\n",
    "    print(f\"Top {num_features} features correlated with {target_column}: {top_features}\")\n",
    "\n",
    "    # Descriptive Statistics: Provide summary statistics for the top correlated numerical features\n",
    "    print(\"\\nDescriptive Statistics for Top Numerical Columns:\\n\", dataframe[top_features].describe())\n",
    "\n",
    "    # Missing Values Analysis: Calculate and display the number and percentage of missing values in the top features\n",
    "    missing_values = dataframe[top_features].isna().sum()\n",
    "    missing_percentage = (missing_values / len(dataframe)) * 100\n",
    "    missing_df = pd.DataFrame({'Number of Missing Values': missing_values, 'Percentage': missing_percentage})\n",
    "    print(\"\\nMissing Values Analysis for Top Features:\\n\", missing_df)"
   ]
  },
  {
   "cell_type": "code",
   "execution_count": 5,
   "metadata": {},
   "outputs": [],
   "source": [
    "def main():\n",
    "    print(\"Loading the dataset...\")\n",
    "    df = load_data(\"heart.csv\")\n",
    "\n",
    "    print(\"Identifying data types...\")\n",
    "    numerical_cols, categorical_cols = identify_data_types(df)\n",
    "    \n",
    "    print(\"Performing EDA...\")\n",
    "    exploratory_data_analysis(df, numerical_cols, categorical_cols)"
   ]
  },
  {
   "cell_type": "code",
   "execution_count": 6,
   "metadata": {},
   "outputs": [
    {
     "name": "stdout",
     "output_type": "stream",
     "text": [
      "Loading the dataset...\n",
      "Identifying data types...\n",
      "Performing EDA...\n",
      "Top 5 features correlated with HeartDisease: ['Oldpeak', 'MaxHR', 'Age', 'Cholesterol', 'RestingBP']\n",
      "\n",
      "Descriptive Statistics for Top Numerical Columns:\n",
      "           Oldpeak       MaxHR         Age  Cholesterol   RestingBP\n",
      "count  918.000000  918.000000  918.000000   918.000000  918.000000\n",
      "mean     0.887364  136.809368   53.510893   198.799564  132.396514\n",
      "std      1.066570   25.460334    9.432617   109.384145   18.514154\n",
      "min     -2.600000   60.000000   28.000000     0.000000    0.000000\n",
      "25%      0.000000  120.000000   47.000000   173.250000  120.000000\n",
      "50%      0.600000  138.000000   54.000000   223.000000  130.000000\n",
      "75%      1.500000  156.000000   60.000000   267.000000  140.000000\n",
      "max      6.200000  202.000000   77.000000   603.000000  200.000000\n",
      "\n",
      "Missing Values Analysis for Top Features:\n",
      "              Number of Missing Values  Percentage\n",
      "Oldpeak                             0         0.0\n",
      "MaxHR                               0         0.0\n",
      "Age                                 0         0.0\n",
      "Cholesterol                         0         0.0\n",
      "RestingBP                           0         0.0\n"
     ]
    }
   ],
   "source": [
    "if __name__ == \"__main__\":\n",
    "    main()"
   ]
  }
 ],
 "metadata": {
  "kernelspec": {
   "display_name": "Python 3",
   "language": "python",
   "name": "python3"
  },
  "language_info": {
   "codemirror_mode": {
    "name": "ipython",
    "version": 3
   },
   "file_extension": ".py",
   "mimetype": "text/x-python",
   "name": "python",
   "nbconvert_exporter": "python",
   "pygments_lexer": "ipython3",
   "version": "3.12.1"
  }
 },
 "nbformat": 4,
 "nbformat_minor": 2
}
